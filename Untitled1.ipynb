{
 "cells": [
  {
   "cell_type": "code",
   "execution_count": 75,
   "id": "084cbd4b",
   "metadata": {},
   "outputs": [],
   "source": [
    "import pandas as pd\n",
    "import numpy as np\n",
    "import matplotlib.pyplot as plt\n",
    "import re\n",
    "import requests\n",
    "\n",
    "pd.set_option('display.max_columns', None)\n",
    "\n",
    "header = {'User-Agent': \"mr.muffin235@gmail.com\"}\n",
    "\n",
    "companyTickers = requests.get(\"https://www.sec.gov/files/company_tickers.json\",\n",
    "                              headers=header)\n",
    "#getting ticker data from sec api\n",
    "companyData = pd.DataFrame.from_dict(companyTickers.json(), orient='index')\n",
    "companyData = companyData.set_index('ticker') \n",
    "companyData['cik_str'] = companyData['cik_str'].astype(str).str.zfill(10)\n",
    "\n",
    "#input ticker \n",
    "#ticker = input(\"Stock ticker: \")"
   ]
  },
  {
   "cell_type": "code",
   "execution_count": 76,
   "id": "6e87c31d",
   "metadata": {},
   "outputs": [],
   "source": [
    "# COMPANY\n",
    "company = companyData.cik_str['META']\n",
    "companyConcept = requests.get(f'https://data.sec.gov/api/xbrl/companyfacts/CIK{company}.json', headers=header)"
   ]
  },
  {
   "cell_type": "code",
   "execution_count": 77,
   "id": "47eb5376",
   "metadata": {},
   "outputs": [
    {
     "data": {
      "text/plain": [
       "dict_keys(['AccountsPayableAndOtherAccruedLiabilitiesCurrent', 'AccountsPayableCurrent', 'AccountsPayableOtherCurrent', 'AccountsPayableTradeCurrent', 'AccountsReceivableNetCurrent', 'AccruedIncomeTaxesCurrent', 'AccruedIncomeTaxesNoncurrent', 'AccruedLiabilitiesCurrent', 'AccumulatedDepreciationDepletionAndAmortizationPropertyPlantAndEquipment', 'AccumulatedOtherComprehensiveIncomeLossForeignCurrencyTranslationAdjustmentNetOfTax', 'AccumulatedOtherComprehensiveIncomeLossNetOfTax', 'AdditionalPaidInCapital', 'AdjustmentsRelatedToTaxWithholdingForShareBasedCompensation', 'AdjustmentsToAdditionalPaidInCapitalSharebasedCompensationRequisiteServicePeriodRecognitionValue', 'AdjustmentsToAdditionalPaidInCapitalTaxEffectFromShareBasedCompensation', 'AdjustmentToAdditionalPaidInCapitalIncomeTaxEffectFromShareBasedCompensationNet', 'AdvertisingExpense', 'AdvertisingRevenue', 'AllocatedShareBasedCompensationExpense', 'AllowanceForDoubtfulAccountsReceivableCurrent', 'AmortizationOfIntangibleAssets', 'AssetImpairmentCharges', 'Assets', 'AssetsCurrent', 'AssetsFairValueDisclosure', 'AvailableForSaleDebtSecuritiesAccumulatedGrossUnrealizedGainBeforeTax', 'AvailableForSaleDebtSecuritiesAccumulatedGrossUnrealizedLossBeforeTax', 'AvailableForSaleSecuritiesDebtMaturitiesAfterOneThroughFiveYearsFairValue', 'AvailableForSaleSecuritiesDebtMaturitiesNextRollingTwelveMonthsFairValue', 'AvailableForSaleSecuritiesDebtMaturitiesWithinOneYearFairValue', 'AvailableForSaleSecuritiesDebtSecuritiesCurrent', 'AvailableforsaleSecuritiesInUnrealizedLossPositionsQualitativeDisclosureNumberOfPositions1', 'BusinessAcquisitionCostOfAcquiredEntityCashPaid', 'BusinessAcquisitionCostOfAcquiredEntityPurchasePrice', 'BusinessAcquisitionEquityInterestsIssuedOrIssuableNumberOfSharesIssued', 'BusinessAcquisitionPurchasePriceAllocationAssetsAcquiredLiabilitiesAssumedNet', 'BusinessAcquisitionPurchasePriceAllocationDeferredTaxLiabilitiesNoncurrent', 'BusinessAcquisitionPurchasePriceAllocationGoodwillAmount', 'BusinessAcquisitionPurchasePriceAllocationGoodwillExpectedTaxDeductibleAmount', 'BusinessCombinationContingentConsiderationArrangementsChangeInAmountOfContingentConsiderationLiability1', 'BusinessCombinationContingentConsiderationLiability', 'BusinessCombinationContingentConsiderationLiabilityCurrent', 'BusinessCombinationContingentConsiderationLiabilityNoncurrent', 'BusinessCombinationRecognizedIdentifiableAssetsAcquiredAndLiabilitiesAssumedDeferredTaxLiabilitiesNoncurrent', 'BusinessCombinationRecognizedIdentifiableAssetsAcquiredAndLiabilitiesAssumedNet', 'BusinessCombinationRecognizedIdentifiableAssetsAcquiredGoodwillAndLiabilitiesAssumedNet', 'BusinessExitCosts', 'CapitalExpendituresIncurredButNotYetPaid', 'CapitalLeasedAssetsGross', 'CapitalLeaseObligationsCurrent', 'CapitalLeaseObligationsNoncurrent', 'CapitalLeasesFutureMinimumPaymentsDue', 'CapitalLeasesFutureMinimumPaymentsDueCurrent', 'CapitalLeasesFutureMinimumPaymentsDueInFiveYears', 'CapitalLeasesFutureMinimumPaymentsDueInFourYears', 'CapitalLeasesFutureMinimumPaymentsDueInThreeYears', 'CapitalLeasesFutureMinimumPaymentsDueInTwoYears', 'CapitalLeasesFutureMinimumPaymentsDueThereafter', 'CapitalLeasesLesseeBalanceSheetAssetsByMajorClassAccumulatedDeprecation', 'Cash', 'CashAndCashEquivalentsAtCarryingValue', 'CashAndCashEquivalentsPeriodIncreaseDecrease', 'CashCashEquivalentsRestrictedCashAndRestrictedCashEquivalents', 'CashCashEquivalentsRestrictedCashAndRestrictedCashEquivalentsPeriodIncreaseDecreaseIncludingExchangeRateEffect', 'CommonStockParOrStatedValuePerShare', 'CommonStocksIncludingAdditionalPaidInCapital', 'CommonStockValue', 'ComprehensiveIncomeNetOfTax', 'ContractualObligation', 'ContractWithCustomerLiability', 'ContractWithCustomerLiabilityCurrent', 'ContractWithCustomerRefundLiability', 'ConversionOfStockSharesConverted1', 'CostOfRevenue', 'CostsAndExpenses', 'CumulativeEffectOfNewAccountingPrincipleInPeriodOfAdoption', 'CurrentFederalTaxExpenseBenefit', 'CurrentForeignTaxExpenseBenefit', 'CurrentIncomeTaxExpenseBenefit', 'CurrentStateAndLocalTaxExpenseBenefit', 'DebtSecuritiesAvailableForSaleContinuousUnrealizedLossPosition12MonthsOrLongerAccumulatedLoss', 'DeferredFederalIncomeTaxExpenseBenefit', 'DeferredForeignIncomeTaxExpenseBenefit', 'DeferredIncomeTaxExpenseBenefit', 'DeferredIncomeTaxLiabilities', 'DeferredIncomeTaxLiabilitiesNet', 'DeferredRevenueAndCreditsCurrent', 'DeferredRevenueCurrent', 'DeferredStateAndLocalIncomeTaxExpenseBenefit', 'DeferredTaxAssetsGross', 'DeferredTaxAssetsLiabilitiesNet', 'DeferredTaxAssetsNet', 'DeferredTaxAssetsOperatingLossCarryforwards', 'DeferredTaxAssetsOther', 'DeferredTaxAssetsTaxCreditCarryforwards', 'DeferredTaxAssetsTaxDeferredExpenseCompensationAndBenefitsShareBasedCompensationCost', 'DeferredTaxAssetsTaxDeferredExpenseReservesAndAccrualsAccruedLiabilities', 'DeferredTaxAssetsValuationAllowance', 'DeferredTaxLiabilities', 'DeferredTaxLiabilitiesGoodwillAndIntangibleAssetsIntangibleAssets', 'DeferredTaxLiabilitiesLeasingArrangements', 'DeferredTaxLiabilitiesNoncurrent', 'DeferredTaxLiabilitiesPropertyPlantAndEquipment', 'DeferredTaxLiabilitiesUndistributedForeignEarnings', 'Depreciation', 'DepreciationDepletionAndAmortization', 'DerivativeInstrumentsGainLossReclassificationFromAccumulatedOCIToIncomeEstimatedNetAmountToBeTransferred', 'EarningsPerShareBasic', 'EarningsPerShareDiluted', 'EffectiveIncomeTaxRateContinuingOperations', 'EffectiveIncomeTaxRateReconciliationAtFederalStatutoryIncomeTaxRate', 'EffectiveIncomeTaxRateReconciliationForeignIncomeTaxRateDifferential', 'EffectiveIncomeTaxRateReconciliationNondeductibleExpenseResearchAndDevelopment', 'EffectiveIncomeTaxRateReconciliationNondeductibleExpenseShareBasedCompensationCost', 'EffectiveIncomeTaxRateReconciliationOtherAdjustments', 'EffectiveIncomeTaxRateReconciliationStateAndLocalIncomeTaxes', 'EffectiveIncomeTaxRateReconciliationTaxCreditsResearch', 'EffectiveIncomeTaxRateReconciliationTaxCutsAndJobsActOf2017Percent', 'EffectOfExchangeRateOnCashAndCashEquivalents', 'EffectOfExchangeRateOnCashCashEquivalentsRestrictedCashAndRestrictedCashEquivalents', 'EmployeeRelatedLiabilitiesCurrent', 'EmployeeServiceShareBasedCompensationNonvestedAwardsTotalCompensationCostNotYetRecognized', 'EmployeeServiceShareBasedCompensationTaxBenefitFromCompensationExpense', 'EquitySecuritiesWithoutReadilyDeterminableFairValueAmount', 'EquitySecuritiesWithoutReadilyDeterminableFairValueDownwardPriceAdjustmentAnnualAmount', 'EquitySecuritiesWithoutReadilyDeterminableFairValueImpairmentLossAnnualAmount', 'EquitySecuritiesWithoutReadilyDeterminableFairValueUpwardPriceAdjustmentAnnualAmount', 'ExcessTaxBenefitFromShareBasedCompensationFinancingActivities', 'ExcessTaxBenefitFromShareBasedCompensationOperatingActivities', 'ExpenseRelatedToDistributionOrServicingAndUnderwritingFees', 'FinanceLeaseInterestExpense', 'FinanceLeaseInterestPaymentOnLiability', 'FinanceLeaseLiability', 'FinanceLeaseLiabilityCurrent', 'FinanceLeaseLiabilityNoncurrent', 'FinanceLeaseLiabilityPaymentsDue', 'FinanceLeaseLiabilityPaymentsDueAfterYearFive', 'FinanceLeaseLiabilityPaymentsDueNextTwelveMonths', 'FinanceLeaseLiabilityPaymentsDueYearFive', 'FinanceLeaseLiabilityPaymentsDueYearFour', 'FinanceLeaseLiabilityPaymentsDueYearThree', 'FinanceLeaseLiabilityPaymentsDueYearTwo', 'FinanceLeaseLiabilityPaymentsRemainderOfFiscalYear', 'FinanceLeaseLiabilityUndiscountedExcessAmount', 'FinanceLeasePrincipalPayments', 'FinanceLeaseRightOfUseAssetAmortization', 'FinanceLeaseRightOfUseAssetBeforeAccumulatedAmortization', 'FinanceLeaseWeightedAverageDiscountRatePercent', 'FiniteLivedIntangibleAssetsAccumulatedAmortization', 'FiniteLivedIntangibleAssetsAmortizationExpenseAfterYearFive', 'FiniteLivedIntangibleAssetsAmortizationExpenseNextTwelveMonths', 'FiniteLivedIntangibleAssetsAmortizationExpenseRemainderOfFiscalYear', 'FiniteLivedIntangibleAssetsAmortizationExpenseYearFive', 'FiniteLivedIntangibleAssetsAmortizationExpenseYearFour', 'FiniteLivedIntangibleAssetsAmortizationExpenseYearThree', 'FiniteLivedIntangibleAssetsAmortizationExpenseYearTwo', 'FiniteLivedIntangibleAssetsGross', 'FiniteLivedIntangibleAssetsNet', 'FiniteLivedNoncompeteAgreementsGross', 'FiniteLivedPatentsGross', 'ForeignCurrencyTransactionGainLossBeforeTax', 'GainLossOnSaleOfPropertyPlantEquipment', 'GeneralAndAdministrativeExpense', 'Goodwill', 'GoodwillAcquiredDuringPeriod', 'GoodwillAndIntangibleAssetImpairment', 'GoodwillForeignCurrencyTranslationGainLoss', 'GoodwillImpairmentLoss', 'GoodwillTranslationAdjustments', 'IncomeLossFromContinuingOperationsBeforeIncomeTaxesDomestic', 'IncomeLossFromContinuingOperationsBeforeIncomeTaxesExtraordinaryItemsNoncontrollingInterest', 'IncomeLossFromContinuingOperationsBeforeIncomeTaxesForeign', 'IncomeTaxExaminationPenaltiesAndInterestAccrued', 'IncomeTaxExpenseBenefit', 'IncomeTaxesPaid', 'IncomeTaxesPaidNet', 'IncomeTaxesReceivable', 'IncreaseDecreaseInAccountsPayable', 'IncreaseDecreaseInAccountsPayableAndOtherOperatingLiabilities', 'IncreaseDecreaseInAccountsPayableTrade', 'IncreaseDecreaseInAccountsReceivable', 'IncreaseDecreaseInAccruedLiabilities', 'IncreaseDecreaseInContractWithCustomerLiability', 'IncreaseDecreaseInDeferredIncomeTaxes', 'IncreaseDecreaseInDeferredRevenueAndCustomerAdvancesAndDeposits', 'IncreaseDecreaseInIncomeTaxesReceivable', 'IncreaseDecreaseInOtherAccountsPayable', 'IncreaseDecreaseInOtherNoncurrentLiabilities', 'IncreaseDecreaseInOtherOperatingAssets', 'IncreaseDecreaseInOtherOperatingLiabilities', 'IncreaseDecreaseInPrepaidDeferredExpenseAndOtherAssets', 'IncreaseDecreaseInRestrictedCash', 'IndefiniteLivedIntangibleAssetsExcludingGoodwill', 'IntangibleAssetsGrossExcludingGoodwill', 'IntangibleAssetsNetExcludingGoodwill', 'IntangibleAssetsNetIncludingGoodwill', 'InterestCostsCapitalized', 'InterestExpense', 'InterestIncomeOther', 'InterestPaid', 'InterestPaidNet', 'InterestRevenueExpenseNet', 'InvestmentIncomeInterest', 'LeaseCost', 'LesseeOperatingLeaseLiabilityPaymentsDue', 'LesseeOperatingLeaseLiabilityPaymentsDueAfterYearFive', 'LesseeOperatingLeaseLiabilityPaymentsDueNextTwelveMonths', 'LesseeOperatingLeaseLiabilityPaymentsDueYearFive', 'LesseeOperatingLeaseLiabilityPaymentsDueYearFour', 'LesseeOperatingLeaseLiabilityPaymentsDueYearThree', 'LesseeOperatingLeaseLiabilityPaymentsDueYearTwo', 'LesseeOperatingLeaseLiabilityPaymentsRemainderOfFiscalYear', 'LesseeOperatingLeaseLiabilityUndiscountedExcessAmount', 'Liabilities', 'LiabilitiesAndStockholdersEquity', 'LiabilitiesCurrent', 'LiabilityForUncertainTaxPositionsNoncurrent', 'LineOfCreditFacilityAmountOutstanding', 'LongTermDebtNoncurrent', 'LongTermPurchaseCommitmentAmount', 'LossContingencyAccrualAtCarryingValue', 'LossContingencyNewClaimsFiledNumber', 'MarketableSecurities', 'MarketableSecuritiesCurrent', 'MoneyMarketFundsAtCarryingValue', 'NetCashProvidedByUsedInFinancingActivities', 'NetCashProvidedByUsedInInvestingActivities', 'NetCashProvidedByUsedInOperatingActivities', 'NetIncomeLoss', 'NetIncomeLossAvailableToCommonStockholdersBasic', 'NoncashOrPartNoncashAcquisitionOtherLiabilitiesAssumed1', 'NoncurrentAssets', 'NonoperatingIncomeExpense', 'NotesIssued1', 'NotesPayableCurrent', 'NumberOfOperatingSegments', 'NumberOfReportableSegments', 'OperatingIncomeLoss', 'OperatingLeaseCost', 'OperatingLeaseLiability', 'OperatingLeaseLiabilityCurrent', 'OperatingLeaseLiabilityNoncurrent', 'OperatingLeasePayments', 'OperatingLeaseRightOfUseAsset', 'OperatingLeasesFutureMinimumPaymentsDue', 'OperatingLeasesFutureMinimumPaymentsDueCurrent', 'OperatingLeasesFutureMinimumPaymentsDueInFiveYears', 'OperatingLeasesFutureMinimumPaymentsDueInFourYears', 'OperatingLeasesFutureMinimumPaymentsDueInThreeYears', 'OperatingLeasesFutureMinimumPaymentsDueInTwoYears', 'OperatingLeasesFutureMinimumPaymentsDueThereafter', 'OperatingLeasesFutureMinimumPaymentsRemainderOfFiscalYear', 'OperatingLeasesRentExpenseNet', 'OperatingLeaseWeightedAverageDiscountRatePercent', 'OtherAccruedLiabilitiesCurrent', 'OtherAssetsNoncurrent', 'OtherComprehensiveIncomeLossAvailableForSaleSecuritiesAdjustmentNetOfTax', 'OtherComprehensiveIncomeLossForeignCurrencyTransactionAndTranslationAdjustmentNetOfTax', 'OtherComprehensiveIncomeLossNetOfTaxPortionAttributableToParent', 'OtherComprehensiveIncomeUnrealizedGainLossOnDerivativesArisingDuringPeriodNetOfTax', 'OtherDeferredCreditsCurrent', 'OtherFiniteLivedIntangibleAssetsGross', 'OtherLiabilities', 'OtherLiabilitiesCurrent', 'OtherLiabilitiesNoncurrent', 'OtherNoncashIncomeExpense', 'OtherNonoperatingIncomeExpense', 'OtherSalesRevenueNet', 'OtherSignificantNoncashTransactionValueOfConsiderationGiven1', 'OtherSundryLiabilitiesNoncurrent', 'PaymentsForProceedsFromOtherInvestingActivities', 'PaymentsForRepurchaseOfCommonStock', 'PaymentsRelatedToTaxWithholdingForShareBasedCompensation', 'PaymentsToAcquireAvailableForSaleSecuritiesDebt', 'PaymentsToAcquireBusinessesNetOfCashAcquired', 'PaymentsToAcquireInvestments', 'PaymentsToAcquireMarketableSecurities', 'PaymentsToAcquirePropertyPlantAndEquipment', 'PreferredStockLiquidationPreferenceValue', 'PreferredStockParOrStatedValuePerShare', 'PreferredStockSharesAuthorized', 'PreferredStockSharesIssued', 'PreferredStockSharesOutstanding', 'PreferredStockValue', 'PrepaidExpenseAndOtherAssetsCurrent', 'ProceedsFromDebtNetOfIssuanceCosts', 'ProceedsFromIncomeTaxRefunds', 'ProceedsFromIssuanceInitialPublicOffering', 'ProceedsFromIssuanceOfCommonStock', 'ProceedsFromMaturitiesPrepaymentsAndCallsOfAvailableForSaleSecurities', 'ProceedsFromPaymentsForOtherFinancingActivities', 'ProceedsFromRepaymentsOfBankOverdrafts', 'ProceedsFromRepaymentsOfOtherLongTermDebt', 'ProceedsFromSaleOfAvailableForSaleSecurities', 'ProceedsFromSaleOfAvailableForSaleSecuritiesDebt', 'ProceedsFromStockOptionsExercised', 'PropertyPlantAndEquipmentAndFinanceLeaseRightOfUseAssetAccumulatedDepreciationAndAmortization', 'PropertyPlantAndEquipmentAndFinanceLeaseRightOfUseAssetAfterAccumulatedDepreciationAndAmortization', 'PropertyPlantAndEquipmentAndFinanceLeaseRightOfUseAssetBeforeAccumulatedDepreciationAndAmortization', 'PropertyPlantAndEquipmentGross', 'PropertyPlantAndEquipmentNet', 'ProvisionForDoubtfulAccounts', 'RepaymentsOfLongTermCapitalLeaseObligations', 'RepaymentsOfLongTermDebt', 'ResearchAndDevelopmentExpense', 'RetainedEarningsAccumulatedDeficit', 'RevenueFromContractWithCustomerExcludingAssessedTax', 'Revenues', 'SaleLeasebackTransactionNetProceeds', 'SaleLeasebackTransactionNetProceedsFinancingActivities', 'SellingAndMarketingExpense', 'ShareBasedCompensation', 'ShareBasedCompensationArrangementByShareBasedPaymentAwardEquityInstrumentsOtherThanOptionsForfeitedInPeriod', 'ShareBasedCompensationArrangementByShareBasedPaymentAwardEquityInstrumentsOtherThanOptionsForfeituresWeightedAverageGrantDateFairValue', 'ShareBasedCompensationArrangementByShareBasedPaymentAwardEquityInstrumentsOtherThanOptionsGrantsInPeriod', 'ShareBasedCompensationArrangementByShareBasedPaymentAwardEquityInstrumentsOtherThanOptionsGrantsInPeriodWeightedAverageGrantDateFairValue', 'ShareBasedCompensationArrangementByShareBasedPaymentAwardEquityInstrumentsOtherThanOptionsNonvestedNumber', 'ShareBasedCompensationArrangementByShareBasedPaymentAwardEquityInstrumentsOtherThanOptionsVestedInPeriod', 'ShareBasedCompensationArrangementByShareBasedPaymentAwardEquityInstrumentsOtherThanOptionsVestedInPeriodTotalFairValue', 'ShareBasedCompensationArrangementByShareBasedPaymentAwardEquityInstrumentsOtherThanOptionsVestedInPeriodWeightedAverageGrantDateFairValue', 'ShareBasedCompensationArrangementByShareBasedPaymentAwardNonOptionEquityInstrumentsExercised', 'ShareBasedCompensationArrangementByShareBasedPaymentAwardNumberOfSharesAvailableForGrant', 'ShareBasedCompensationArrangementByShareBasedPaymentAwardOptionsExercisableNumber', 'ShareBasedCompensationArrangementByShareBasedPaymentAwardOptionsExercisableWeightedAverageExercisePrice', 'ShareBasedCompensationArrangementByShareBasedPaymentAwardOptionsExercisesInPeriodTotalIntrinsicValue', 'ShareBasedCompensationArrangementByShareBasedPaymentAwardOptionsForfeituresAndExpirationsInPeriod', 'ShareBasedCompensationArrangementByShareBasedPaymentAwardOptionsOutstandingIntrinsicValue', 'ShareBasedCompensationArrangementByShareBasedPaymentAwardOptionsOutstandingNumber', 'ShareBasedCompensationArrangementByShareBasedPaymentAwardOptionsOutstandingWeightedAverageExercisePrice', 'ShareBasedCompensationArrangementByShareBasedPaymentAwardOptionsVestedAndExpectedToVestOutstandingAggregateIntrinsicValue', 'ShareBasedCompensationArrangementByShareBasedPaymentAwardOptionsVestedAndExpectedToVestOutstandingNumber', 'ShareBasedCompensationArrangementByShareBasedPaymentAwardOptionsVestedAndExpectedToVestOutstandingWeightedAverageExercisePrice', 'ShareBasedCompensationArrangementsByShareBasedPaymentAwardOptionsExercisesInPeriodWeightedAverageExercisePrice', 'ShareBasedCompensationArrangementsByShareBasedPaymentAwardOptionsExpirationsInPeriodWeightedAverageExercisePrice', 'ShareBasedCompensationSharesAuthorizedUnderStockOptionPlansExercisePriceRangeNumberOfExercisableOptions', 'SharebasedCompensationArrangementBySharebasedPaymentAwardOptionsExercisableIntrinsicValue1', 'SharebasedCompensationArrangementBySharebasedPaymentAwardOptionsVestedInPeriodFairValue1', 'SharebasedCompensationSharesAuthorizedUnderStockOptionPlansExercisePriceRangeExercisableOptionsWeightedAverageExercisePrice1', 'SharebasedCompensationSharesAuthorizedUnderStockOptionPlansExercisePriceRangeOutstandingOptionsWeightedAverageExercisePriceBeginningBalance1', 'SharePrice', 'SharesPaidForTaxWithholdingForShareBasedCompensation', 'StockholdersEquity', 'StockIssuedDuringPeriodSharesShareBasedCompensationGross', 'StockIssuedDuringPeriodSharesStockOptionsExercised', 'StockIssuedDuringPeriodValueAcquisitions', 'StockIssuedDuringPeriodValueNewIssues', 'StockIssuedDuringPeriodValueStockOptionsExercised', 'StockRepurchasedAndRetiredDuringPeriodShares', 'StockRepurchasedAndRetiredDuringPeriodValue', 'StockRepurchasedDuringPeriodValue', 'StockRepurchaseProgramAuthorizedAmount1', 'StockRepurchaseProgramRemainingAuthorizedRepurchaseAmount1', 'TaxesPayableCurrent', 'UndistributedEarningsAllocatedToParticipatingSecurities', 'UndistributedEarningsLossAllocatedToParticipatingSecuritiesBasic', 'UndistributedEarningsOfForeignSubsidiaries', 'UnrecognizedTaxBenefits', 'UnrecognizedTaxBenefitsDecreasesResultingFromPriorPeriodTaxPositions', 'UnrecognizedTaxBenefitsDecreasesResultingFromSettlementsWithTaxingAuthorities', 'UnrecognizedTaxBenefitsIncomeTaxPenaltiesAndInterestAccrued', 'UnrecognizedTaxBenefitsIncomeTaxPenaltiesExpense', 'UnrecognizedTaxBenefitsIncreasesResultingFromCurrentPeriodTaxPositions', 'UnrecognizedTaxBenefitsIncreasesResultingFromPriorPeriodTaxPositions', 'UnrecognizedTaxBenefitsInterestOnIncomeTaxesExpense', 'UnrecognizedTaxBenefitsThatWouldImpactEffectiveTaxRate', 'VariableLeaseCost', 'WeightedAverageNumberOfDilutedSharesOutstanding', 'WeightedAverageNumberOfSharesOutstandingBasic', 'EffectiveIncomeTaxRateReconciliationShareBasedCompensationExcessTaxBenefitPercent', 'EquityMethodInvestments', 'EquitySecuritiesWithoutReadilyDeterminableFairValueUpwardPriceAdjustmentCumulativeAmount', 'NumberOfReportingUnits', 'RightOfUseAssetObtainedInExchangeForFinanceLeaseLiability', 'RightOfUseAssetObtainedInExchangeForOperatingLeaseLiability', 'ContractualObligationDueInFourthYear', 'ContractualObligationDueInNextTwelveMonths', 'ContractualObligationDueInSecondYear', 'ContractualObligationDueInThirdYear', 'ContractualObligationFutureMinimumPaymentsDueRemainderOfFiscalYear', 'GoodwillOtherIncreaseDecrease', 'ProceedsFromSaleOfPropertyPlantAndEquipment', 'EquitySecuritiesFvNi', 'OtherAssetsFairValueDisclosure', 'RestrictedCashAndCashEquivalents', 'RestrictedCashEquivalents', 'DebtInstrumentCarryingAmount', 'DebtInstrumentUnamortizedDiscountPremiumAndDebtIssuanceCostsNet', 'DebtSecuritiesAvailableForSaleContinuousUnrealizedLossPosition12MonthsOrLonger', 'DebtSecuritiesAvailableForSaleContinuousUnrealizedLossPositionLessThan12Months', 'DebtSecuritiesAvailableForSaleContinuousUnrealizedLossPositionLessThan12MonthsAccumulatedLoss', 'DebtSecuritiesAvailableForSaleUnrealizedLossPosition', 'DebtSecuritiesAvailableForSaleUnrealizedLossPositionAccumulatedLoss', 'ImpairmentOfLongLivedAssetsHeldForUse', 'LongTermDebtMaturitiesRepaymentsOfPrincipalAfterYearFive', 'LongTermDebtMaturitiesRepaymentsOfPrincipalInYearFive', 'OperatingLeaseImpairmentLoss', 'ProceedsFromIssuanceOfLongTermDebt', 'ContractualObligationDueAfterFifthYear', 'ContractualObligationDueInFifthYear', 'DebtSecuritiesAvailableForSaleExcludingAccruedInterest', 'EffectiveIncomeTaxRateReconciliationFdiiPercent', 'EquitySecuritiesFvNiGainLoss', 'InterestExpenseLongTermDebt', 'LitigationSettlementAmountAwardedToOtherParty', 'RestructuringAndRelatedCostExpectedNumberOfPositionsEliminated'])"
      ]
     },
     "execution_count": 77,
     "metadata": {},
     "output_type": "execute_result"
    }
   ],
   "source": [
    "companyConcept.json()['facts']['us-gaap'].keys()"
   ]
  },
  {
   "cell_type": "code",
   "execution_count": 97,
   "id": "23ab424e",
   "metadata": {},
   "outputs": [
    {
     "data": {
      "text/html": [
       "<div>\n",
       "<style scoped>\n",
       "    .dataframe tbody tr th:only-of-type {\n",
       "        vertical-align: middle;\n",
       "    }\n",
       "\n",
       "    .dataframe tbody tr th {\n",
       "        vertical-align: top;\n",
       "    }\n",
       "\n",
       "    .dataframe thead th {\n",
       "        text-align: right;\n",
       "    }\n",
       "</style>\n",
       "<table border=\"1\" class=\"dataframe\">\n",
       "  <thead>\n",
       "    <tr style=\"text-align: right;\">\n",
       "      <th></th>\n",
       "      <th>end</th>\n",
       "      <th>val</th>\n",
       "      <th>accn</th>\n",
       "      <th>fy</th>\n",
       "      <th>fp</th>\n",
       "      <th>form</th>\n",
       "      <th>filed</th>\n",
       "      <th>frame</th>\n",
       "    </tr>\n",
       "  </thead>\n",
       "  <tbody>\n",
       "    <tr>\n",
       "      <th>0</th>\n",
       "      <td>2011-12-31</td>\n",
       "      <td>1925000000</td>\n",
       "      <td>0001326801-13-000003</td>\n",
       "      <td>2012</td>\n",
       "      <td>FY</td>\n",
       "      <td>10-K</td>\n",
       "      <td>2013-02-01</td>\n",
       "      <td>CY2011Q4I</td>\n",
       "    </tr>\n",
       "    <tr>\n",
       "      <th>1</th>\n",
       "      <td>2011-12-31</td>\n",
       "      <td>1925000000</td>\n",
       "      <td>0001326801-12-000006</td>\n",
       "      <td>2012</td>\n",
       "      <td>Q3</td>\n",
       "      <td>10-Q</td>\n",
       "      <td>2012-10-24</td>\n",
       "      <td>NaN</td>\n",
       "    </tr>\n",
       "    <tr>\n",
       "      <th>2</th>\n",
       "      <td>2011-12-31</td>\n",
       "      <td>1925000000</td>\n",
       "      <td>0001193125-12-325997</td>\n",
       "      <td>2012</td>\n",
       "      <td>Q2</td>\n",
       "      <td>10-Q</td>\n",
       "      <td>2012-07-31</td>\n",
       "      <td>NaN</td>\n",
       "    </tr>\n",
       "    <tr>\n",
       "      <th>3</th>\n",
       "      <td>2012-06-30</td>\n",
       "      <td>2734000000</td>\n",
       "      <td>0001193125-12-325997</td>\n",
       "      <td>2012</td>\n",
       "      <td>Q2</td>\n",
       "      <td>10-Q</td>\n",
       "      <td>2012-07-31</td>\n",
       "      <td>CY2012Q2I</td>\n",
       "    </tr>\n",
       "    <tr>\n",
       "      <th>4</th>\n",
       "      <td>2012-09-30</td>\n",
       "      <td>3023000000</td>\n",
       "      <td>0001326801-12-000006</td>\n",
       "      <td>2012</td>\n",
       "      <td>Q3</td>\n",
       "      <td>10-Q</td>\n",
       "      <td>2012-10-24</td>\n",
       "      <td>CY2012Q3I</td>\n",
       "    </tr>\n",
       "    <tr>\n",
       "      <th>...</th>\n",
       "      <td>...</td>\n",
       "      <td>...</td>\n",
       "      <td>...</td>\n",
       "      <td>...</td>\n",
       "      <td>...</td>\n",
       "      <td>...</td>\n",
       "      <td>...</td>\n",
       "      <td>...</td>\n",
       "    </tr>\n",
       "    <tr>\n",
       "      <th>62</th>\n",
       "      <td>2019-12-31</td>\n",
       "      <td>45986000000</td>\n",
       "      <td>0001326801-20-000076</td>\n",
       "      <td>2020</td>\n",
       "      <td>Q2</td>\n",
       "      <td>10-Q</td>\n",
       "      <td>2020-07-31</td>\n",
       "      <td>NaN</td>\n",
       "    </tr>\n",
       "    <tr>\n",
       "      <th>63</th>\n",
       "      <td>2019-12-31</td>\n",
       "      <td>45986000000</td>\n",
       "      <td>0001326801-20-000048</td>\n",
       "      <td>2020</td>\n",
       "      <td>Q1</td>\n",
       "      <td>10-Q</td>\n",
       "      <td>2020-04-30</td>\n",
       "      <td>NaN</td>\n",
       "    </tr>\n",
       "    <tr>\n",
       "      <th>64</th>\n",
       "      <td>2020-03-31</td>\n",
       "      <td>48739000000</td>\n",
       "      <td>0001326801-20-000048</td>\n",
       "      <td>2020</td>\n",
       "      <td>Q1</td>\n",
       "      <td>10-Q</td>\n",
       "      <td>2020-04-30</td>\n",
       "      <td>CY2020Q1I</td>\n",
       "    </tr>\n",
       "    <tr>\n",
       "      <th>65</th>\n",
       "      <td>2020-06-30</td>\n",
       "      <td>52088000000</td>\n",
       "      <td>0001326801-20-000076</td>\n",
       "      <td>2020</td>\n",
       "      <td>Q2</td>\n",
       "      <td>10-Q</td>\n",
       "      <td>2020-07-31</td>\n",
       "      <td>CY2020Q2I</td>\n",
       "    </tr>\n",
       "    <tr>\n",
       "      <th>66</th>\n",
       "      <td>2020-09-30</td>\n",
       "      <td>56428000000</td>\n",
       "      <td>0001326801-20-000084</td>\n",
       "      <td>2020</td>\n",
       "      <td>Q3</td>\n",
       "      <td>10-Q</td>\n",
       "      <td>2020-10-30</td>\n",
       "      <td>CY2020Q3I</td>\n",
       "    </tr>\n",
       "  </tbody>\n",
       "</table>\n",
       "<p>67 rows × 8 columns</p>\n",
       "</div>"
      ],
      "text/plain": [
       "           end          val                  accn    fy  fp  form       filed  \\\n",
       "0   2011-12-31   1925000000  0001326801-13-000003  2012  FY  10-K  2013-02-01   \n",
       "1   2011-12-31   1925000000  0001326801-12-000006  2012  Q3  10-Q  2012-10-24   \n",
       "2   2011-12-31   1925000000  0001193125-12-325997  2012  Q2  10-Q  2012-07-31   \n",
       "3   2012-06-30   2734000000  0001193125-12-325997  2012  Q2  10-Q  2012-07-31   \n",
       "4   2012-09-30   3023000000  0001326801-12-000006  2012  Q3  10-Q  2012-10-24   \n",
       "..         ...          ...                   ...   ...  ..   ...         ...   \n",
       "62  2019-12-31  45986000000  0001326801-20-000076  2020  Q2  10-Q  2020-07-31   \n",
       "63  2019-12-31  45986000000  0001326801-20-000048  2020  Q1  10-Q  2020-04-30   \n",
       "64  2020-03-31  48739000000  0001326801-20-000048  2020  Q1  10-Q  2020-04-30   \n",
       "65  2020-06-30  52088000000  0001326801-20-000076  2020  Q2  10-Q  2020-07-31   \n",
       "66  2020-09-30  56428000000  0001326801-20-000084  2020  Q3  10-Q  2020-10-30   \n",
       "\n",
       "        frame  \n",
       "0   CY2011Q4I  \n",
       "1         NaN  \n",
       "2         NaN  \n",
       "3   CY2012Q2I  \n",
       "4   CY2012Q3I  \n",
       "..        ...  \n",
       "62        NaN  \n",
       "63        NaN  \n",
       "64  CY2020Q1I  \n",
       "65  CY2020Q2I  \n",
       "66  CY2020Q3I  \n",
       "\n",
       "[67 rows x 8 columns]"
      ]
     },
     "execution_count": 97,
     "metadata": {},
     "output_type": "execute_result"
    }
   ],
   "source": [
    "# Assets\n",
    "test = companyConcept.json()['facts']['us-gaap']['PropertyPlantAndEquipmentGross']\n",
    "test = pd.DataFrame(test['units']['USD'])\n",
    "test = test[(test['fp'] == 'FY') & (test['form'] == '10-K')]\n",
    "test.drop_duplicates('end')"
   ]
  },
  {
   "cell_type": "code",
   "execution_count": 98,
   "id": "50e3048e",
   "metadata": {},
   "outputs": [],
   "source": [
    "balance_assets = ['CashAndCashEquivalentsAtCarryingValue', 'MarketableSecuritiesCurrent', \n",
    "                  'AccountsReceivableNetCurrent', 'PrepaidExpenseAndOtherAssetsCurrent', 'AssetsCurrent',\n",
    "                  #Non Marketable equity securities, #property and equipment, net\n",
    "                  'OperatingLeaseRightOfUseAsset', 'IntangibleAssetsNetExcludingGoodwill', 'Goodwill', \n",
    "                  'OtherAssetsNoncurrent']"
   ]
  },
  {
   "cell_type": "code",
   "execution_count": 99,
   "id": "fc7f190d",
   "metadata": {},
   "outputs": [],
   "source": [
    "d = {}\n",
    "for i in balance_assets:\n",
    "    variable = companyConcept.json()['facts']['us-gaap'][i]\n",
    "    variable_df = pd.DataFrame(variable['units']['USD'])\n",
    "    variable_final = variable_df[(variable_df['fp'] == 'FY') & (variable_df['form'] == '10-K')]\n",
    "    d[\"{}\".format(i)] = variable_final.drop_duplicates('end')"
   ]
  },
  {
   "cell_type": "code",
   "execution_count": 100,
   "id": "d6932647",
   "metadata": {},
   "outputs": [
    {
     "data": {
      "text/plain": [
       "dict_keys(['CashAndCashEquivalentsAtCarryingValue', 'MarketableSecuritiesCurrent', 'AccountsReceivableNetCurrent', 'PrepaidExpenseAndOtherAssetsCurrent', 'AssetsCurrent', 'OperatingLeaseRightOfUseAsset', 'IntangibleAssetsNetExcludingGoodwill', 'Goodwill', 'OtherAssetsNoncurrent'])"
      ]
     },
     "execution_count": 100,
     "metadata": {},
     "output_type": "execute_result"
    }
   ],
   "source": [
    "d.keys()"
   ]
  },
  {
   "cell_type": "code",
   "execution_count": null,
   "id": "24fb8218",
   "metadata": {},
   "outputs": [],
   "source": []
  },
  {
   "cell_type": "code",
   "execution_count": null,
   "id": "86e86e91",
   "metadata": {},
   "outputs": [],
   "source": []
  },
  {
   "cell_type": "code",
   "execution_count": null,
   "id": "fe0ae936",
   "metadata": {},
   "outputs": [],
   "source": []
  }
 ],
 "metadata": {
  "kernelspec": {
   "display_name": "Python 3 (ipykernel)",
   "language": "python",
   "name": "python3"
  },
  "language_info": {
   "codemirror_mode": {
    "name": "ipython",
    "version": 3
   },
   "file_extension": ".py",
   "mimetype": "text/x-python",
   "name": "python",
   "nbconvert_exporter": "python",
   "pygments_lexer": "ipython3",
   "version": "3.9.12"
  }
 },
 "nbformat": 4,
 "nbformat_minor": 5
}
